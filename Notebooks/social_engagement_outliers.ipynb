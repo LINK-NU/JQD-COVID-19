{
 "cells": [
  {
   "cell_type": "code",
   "execution_count": 1,
   "metadata": {},
   "outputs": [],
   "source": [
    "import re \n",
    "import nltk \n",
    "import string \n",
    "import numpy as np\n",
    "import pandas as pd\n",
    "import multiprocessing\n",
    "from datetime import datetime\n",
    "from collections import Counter\n",
    "import matplotlib.pyplot as plt\n",
    "from tqdm import tqdm_notebook\n",
    "from nltk.stem.porter import *\n",
    "from nltk.corpus import stopwords \n",
    "from nltk.stem import WordNetLemmatizer \n",
    "lemmatizer = WordNetLemmatizer() \n",
    "from nltk.tokenize import word_tokenize\n",
    "import warnings\n",
    "warnings.filterwarnings('ignore')\n",
    "pd.set_option('display.max_colwidth', -1)\n",
    "pd.set_option('display.float_format', lambda x: '%.3f' % x)\n",
    "pd.set_option('display.max_rows', 500)\n",
    "pd.set_option('display.max_columns', 500)\n",
    "pd.set_option('display.width', 1000)\n",
    "plt.style.use('seaborn-white')\n",
    "orange, purple, elm ='#FFCC00', '#666599', '#217C7E'\n",
    "blue, red, grey, green ='#336699', '#9A3334', '#AAAAAA', '#335333'\n",
    "np.random.seed(2018)\n",
    "%matplotlib inline\n",
    "mydpi=600\n",
    "s=18\n",
    "\n",
    "__author__ = 'HK Dambanemuya'\n",
    "__version__ = 'Python2'"
   ]
  },
  {
   "cell_type": "code",
   "execution_count": 2,
   "metadata": {},
   "outputs": [
    {
     "name": "stdout",
     "output_type": "stream",
     "text": [
      "Reading News...\n"
     ]
    },
    {
     "data": {
      "application/vnd.jupyter.widget-view+json": {
       "model_id": "d86aa2fe116b4a38bae88e083b0eb64d",
       "version_major": 2,
       "version_minor": 0
      },
      "text/plain": [
       "HBox(children=(IntProgress(value=0, max=2323528), HTML(value=u'')))"
      ]
     },
     "metadata": {},
     "output_type": "display_data"
    },
    {
     "name": "stdout",
     "output_type": "stream",
     "text": [
      "\n",
      "Reading Blogs...\n"
     ]
    },
    {
     "data": {
      "application/vnd.jupyter.widget-view+json": {
       "model_id": "e0538befa7fe46309040dabf55505252",
       "version_major": 2,
       "version_minor": 0
      },
      "text/plain": [
       "HBox(children=(IntProgress(value=0, max=985949), HTML(value=u'')))"
      ]
     },
     "metadata": {},
     "output_type": "display_data"
    },
    {
     "name": "stdout",
     "output_type": "stream",
     "text": [
      "\n",
      "Reading Discussions...\n"
     ]
    },
    {
     "data": {
      "application/vnd.jupyter.widget-view+json": {
       "model_id": "f8034ba1b0b64950956b5a13a112d672",
       "version_major": 2,
       "version_minor": 0
      },
      "text/plain": [
       "HBox(children=(IntProgress(value=0, max=412165), HTML(value=u'')))"
      ]
     },
     "metadata": {},
     "output_type": "display_data"
    },
    {
     "name": "stdout",
     "output_type": "stream",
     "text": [
      "\n"
     ]
    }
   ],
   "source": [
    "print (\"Reading News...\")\n",
    "news = pd.read_csv(\"../Data/Fusion/news.csv\")\n",
    "news = news[news['length']>100]\n",
    "news['date'] = [datetime.strftime(pd.to_datetime(date), '%Y-%m-%d') for date in tqdm_notebook(news['date'])]"
   ]
  },
  {
   "cell_type": "code",
   "execution_count": 3,
   "metadata": {},
   "outputs": [
    {
     "data": {
      "application/vnd.jupyter.widget-view+json": {
       "model_id": "e18187912ebc4cbcaf36868d06887f80",
       "version_major": 2,
       "version_minor": 0
      },
      "text/plain": [
       "HBox(children=(IntProgress(value=0, max=202), HTML(value=u'')))"
      ]
     },
     "metadata": {},
     "output_type": "display_data"
    },
    {
     "name": "stdout",
     "output_type": "stream",
     "text": [
      "\n",
      "('Common Countries:', 79)\n"
     ]
    }
   ],
   "source": [
    "# Select countries common in all 3 data sets\n",
    "country_map = Counter(set(news['country']))+Counter(set(blogs['country']))+ Counter(set(discussions['country']))\n",
    "common_locations = []\n",
    "for k,v in tqdm_notebook(country_map.items()):\n",
    "    if (v == 3) and (k==k):\n",
    "        common_locations.append(k)\n",
    "print(\"Common Countries:\", len(common_locations))"
   ]
  },
  {
   "cell_type": "code",
   "execution_count": 4,
   "metadata": {},
   "outputs": [
    {
     "name": "stdout",
     "output_type": "stream",
     "text": [
      "('News:', 2277563)\n",
      "('Blogs:', 946755)\n",
      "('Discussions:', 409091)\n"
     ]
    }
   ],
   "source": [
    "# Filter data by common countries\n",
    "news = news[news['country'].isin(common_locations)]\n",
    "blogs = blogs[blogs['country'].isin(common_locations)]\n",
    "discussions = discussions[discussions['country'].isin(common_locations)]\n",
    "print (\"News:\", len(news))\n",
    "print (\"Blogs:\", len(blogs))\n",
    "print (\"Discussions:\", len(discussions))"
   ]
  },
  {
   "cell_type": "markdown",
   "metadata": {},
   "source": [
    "## Popular News Posts"
   ]
  },
  {
   "cell_type": "code",
   "execution_count": 6,
   "metadata": {},
   "outputs": [
    {
     "name": "stdout",
     "output_type": "stream",
     "text": [
      "# of popular news posts: 254\n"
     ]
    }
   ],
   "source": [
    "min_participants = 300\n",
    "popular_news = news[news['participants']>=min_participants]\n",
    "print \"# of popular news posts:\", len(popular_news)"
   ]
  },
  {
   "cell_type": "code",
   "execution_count": 7,
   "metadata": {},
   "outputs": [],
   "source": [
    "stop_words = stopwords.words(\"english\")\n",
    "stop_words.extend(['coronavirus', 'covid', 'virus', 'news', 'new', 'outbreak', 'pandemic'])"
   ]
  },
  {
   "cell_type": "code",
   "execution_count": 11,
   "metadata": {},
   "outputs": [],
   "source": [
    "# convert to lowercase\n",
    "def text_lowercase(text): \n",
    "    return text.decode('ascii', 'ignore').lower() \n",
    "\n",
    "# remove numbers\n",
    "def remove_numbers(text): \n",
    "    result = re.sub(r'\\d+', '', text.encode('ascii', 'ignore')) \n",
    "    return result \n",
    "\n",
    "# remove whitespace from text \n",
    "def remove_whitespace(text): \n",
    "    return  \" \".join(text.encode('ascii', 'ignore').split())\n",
    "\n",
    "# remove stopwords \n",
    "def remove_stopwords(text): \n",
    "    word_tokens = word_tokenize(text.encode('ascii', 'ignore')) \n",
    "    filtered_text = [word for word in word_tokens if word not in stop_words] \n",
    "    return filtered_text \n",
    "\n",
    "# pre-process text\n",
    "def pre_process(text):\n",
    "    text_lower = text_lowercase(str(text).decode('ascii', 'ignore'))\n",
    "    no_numbers = remove_numbers(text_lower)\n",
    "    no_punctuation = no_numbers.translate(None, string.punctuation)\n",
    "    no_whitespace = remove_whitespace(no_punctuation)\n",
    "    no_stopwords = remove_stopwords(no_whitespace)\n",
    "    lemmas = [lemmatizer.lemmatize(token) for token in no_stopwords]\n",
    "    no_chars = [i for i in lemmas if len(i) > 1]\n",
    "    return no_chars   \n",
    "\n",
    "# get bi-grams\n",
    "def bi_grams(tokens):\n",
    "    return list(nltk.bigrams(tokens))"
   ]
  },
  {
   "cell_type": "code",
   "execution_count": 12,
   "metadata": {},
   "outputs": [],
   "source": [
    "pool = multiprocessing.Pool(processes=8)"
   ]
  },
  {
   "cell_type": "code",
   "execution_count": 13,
   "metadata": {},
   "outputs": [],
   "source": [
    "text = pool.map(pre_process, popular_news['text'].dropna())"
   ]
  },
  {
   "cell_type": "code",
   "execution_count": 14,
   "metadata": {},
   "outputs": [],
   "source": [
    "words = [element for lis in text for element in lis]"
   ]
  },
  {
   "cell_type": "code",
   "execution_count": 15,
   "metadata": {},
   "outputs": [
    {
     "name": "stdout",
     "output_type": "stream",
     "text": [
      "[('people', 472), ('flu', 314), ('trump', 226), (u'case', 132), ('vaccine', 125), ('get', 123), ('help', 121), ('disease', 116), ('china', 103), ('time', 101), ('going', 98), ('day', 98), ('yet', 93), ('one', 91), ('spread', 88), (u'population', 85), ('rate', 85), ('like', 85), ('dont', 83), ('would', 82), (u'death', 80), (u'community', 79), ('president', 78), ('much', 77), ('democrat', 77), ('year', 76), (u'thing', 76), (u'system', 72), ('good', 71), (u'number', 71), ('vulnerable', 71), ('unlike', 70), ('medical', 69), ('still', 69), ('every', 68), ('many', 67), ('infected', 65), ('take', 64), ('response', 58), ('might', 58), (u'american', 58), ('state', 57), ('immune', 56), ('world', 55), ('feb', 55), ('even', 54), (u'medium', 54), ('control', 54), (u'need', 54), ('health', 53), ('know', 53), ('however', 52), ('thats', 51), ('related', 51), (u'country', 50), ('life', 50), ('bill', 50), (u'body', 49), ('care', 48), (u'kill', 48), ('including', 47), (u'symptom', 46), ('said', 46), ('million', 46), ('think', 46), (u'say', 46), (u'test', 45), ('die', 45), ('mortality', 45), (u'go', 45), ('could', 45), ('well', 45), ('cdc', 43), ('likely', 40), ('right', 40), ('situation', 40), ('chinese', 40), ('month', 39), ('done', 39), ('panic', 39), ('keep', 39), ('government', 39), ('week', 37), ('higher', 37), ('march', 37), ('emergency', 37), (u'fact', 37), ('work', 36), ('best', 36), ('corona', 36), ('better', 35), ('company', 35), ('also', 35), ('healthcare', 35), ('problem', 35), ('testing', 34), ('way', 34), ('healthy', 34), (u'condition', 34), ('cancer', 33)]\n"
     ]
    }
   ],
   "source": [
    "print Counter(words).most_common(100) "
   ]
  },
  {
   "cell_type": "code",
   "execution_count": 17,
   "metadata": {},
   "outputs": [],
   "source": [
    "grams_collection = pool.map(bi_grams, text)"
   ]
  },
  {
   "cell_type": "code",
   "execution_count": 18,
   "metadata": {},
   "outputs": [
    {
     "data": {
      "application/vnd.jupyter.widget-view+json": {
       "model_id": "66a0181a6e3e4d77a57758e2091027d4",
       "version_major": 2,
       "version_minor": 0
      },
      "text/plain": [
       "HBox(children=(IntProgress(value=0, max=254), HTML(value=u'')))"
      ]
     },
     "metadata": {},
     "output_type": "display_data"
    },
    {
     "name": "stdout",
     "output_type": "stream",
     "text": [
      "\n"
     ]
    }
   ],
   "source": [
    "topics = []\n",
    "for grams in tqdm_notebook(grams_collection):\n",
    "    topics.extend(grams)"
   ]
  },
  {
   "cell_type": "code",
   "execution_count": 19,
   "metadata": {},
   "outputs": [
    {
     "data": {
      "text/plain": [
       "[(('disease', 'people'), 70),\n",
       " (('unlike', 'flu'), 67),\n",
       " (('mortality', 'rate'), 43),\n",
       " (('immune', 'response'), 29),\n",
       " ((u'body', 'yet'), 28),\n",
       " (('vulnerable', 'related'), 28),\n",
       " (('going', 'kill'), 27),\n",
       " (('heart', 'disease'), 27),\n",
       " (('united', u'state'), 27),\n",
       " (('immune', u'system'), 26),\n",
       " (('including', 'life'), 25),\n",
       " (('might', 'vulnerable'), 25),\n",
       " (('life', 'might'), 25),\n",
       " ((u'condition', 'people'), 25),\n",
       " (('liver', 'disease'), 25),\n",
       " (('asymptomatically', 'spread'), 25),\n",
       " (('people', 'people'), 25),\n",
       " (('kidney', 'disease'), 25),\n",
       " (('donald', 'trump'), 24),\n",
       " (('asthma', 'people'), 24),\n",
       " (('still', 'asymptomatically'), 24),\n",
       " (('people', 'diabetes'), 24),\n",
       " (('people', 'lung'), 24),\n",
       " (('cancer', 'people'), 24),\n",
       " (('people', 'heart'), 24),\n",
       " (('built', 'natural'), 24),\n",
       " (('people', 'kidney'), 24),\n",
       " (('people', 'cancer'), 24),\n",
       " (('people', 'asthma'), 24),\n",
       " (('diabetes', 'people'), 24),\n",
       " ((u'population', 'vulnerable'), 24),\n",
       " (('related', 'complicationsdeaths'), 24),\n",
       " (('president', 'trump'), 24),\n",
       " (('lung', u'condition'), 24),\n",
       " (('complicationsdeaths', 'people'), 24),\n",
       " ((u'community', 'spiraling'), 23),\n",
       " (('confirmed', u'case'), 22),\n",
       " (('spread', 'others'), 22),\n",
       " (('people', 'hypertension'), 22),\n",
       " (('people', 'liver'), 22),\n",
       " (('hypertension', 'people'), 22),\n",
       " (('others', 'including'), 22),\n",
       " (('flu', u'body'), 21),\n",
       " (('fall', 'category'), 21),\n",
       " (('infected', 'likely'), 21),\n",
       " (('healthcare', 'system'), 21),\n",
       " (('flu', 'yet'), 20),\n",
       " (('people', 'weakened'), 18),\n",
       " (('weakened', 'immune'), 18),\n",
       " (('lowno', u'symptom'), 17),\n",
       " (('help', 'keep'), 16),\n",
       " (('likely', 'lowno'), 16),\n",
       " (('fatality', 'rate'), 16),\n",
       " ((u'case', 'per'), 16),\n",
       " (('yet', 'vaccine'), 15),\n",
       " (('keep', u'community'), 15),\n",
       " (('people', 'die'), 15),\n",
       " (('yet', 'built'), 15),\n",
       " (('however', 'still'), 14),\n",
       " (('good', 'hygiene'), 14),\n",
       " (('vulnerable', u'population'), 14),\n",
       " (('natural', 'immunity'), 14),\n",
       " (('stock', 'market'), 14),\n",
       " (('help', 'slow'), 14),\n",
       " ((u'measure', 'place'), 13),\n",
       " (('long', 'time'), 13),\n",
       " (('natural', 'immune'), 13),\n",
       " ((u'ten', u'thousand'), 13),\n",
       " (('higher', 'flu'), 13),\n",
       " (('adopting', 'good'), 13),\n",
       " (('hygiene', u'practice'), 13),\n",
       " ((u'practice', 'something'), 12),\n",
       " (('people', 'died'), 12),\n",
       " (('full', 'brunt'), 12),\n",
       " ((u'symptom', 'however'), 12),\n",
       " (('coming', 'china'), 12),\n",
       " (('foolproof', 'help'), 12),\n",
       " (('healthy', 'become'), 12),\n",
       " (('medical', 'field'), 12),\n",
       " (('something', 'help'), 12),\n",
       " (('right', 'help'), 12),\n",
       " (('slow', 'flu'), 12),\n",
       " (('protective', u'measure'), 12),\n",
       " (('infected', 'mortality'), 12),\n",
       " (('go', 'away'), 12),\n",
       " (('get', 'full'), 12),\n",
       " (('flu', 'transmission'), 12),\n",
       " (('well', 'get'), 12),\n",
       " (('become', 'infected'), 12),\n",
       " (('flu', u'vaccine'), 12),\n",
       " (('much', 'higher'), 12),\n",
       " ((u'hit', u'community'), 12),\n",
       " ((u'community', 'well'), 12),\n",
       " ((u'population', 'infected'), 12),\n",
       " (('best', 'address'), 12),\n",
       " (('vaccine', 'foolproof'), 11),\n",
       " (('flu', 'done'), 11),\n",
       " (('early', 'however'), 11),\n",
       " (('related', u'case'), 11),\n",
       " (('amongst', 'vulnerable'), 11)]"
      ]
     },
     "execution_count": 19,
     "metadata": {},
     "output_type": "execute_result"
    }
   ],
   "source": [
    "Counter(topics).most_common(100)"
   ]
  },
  {
   "cell_type": "markdown",
   "metadata": {},
   "source": [
    "A further investigation of the data shows that these posts are relate to the nature of the coronavirus disease, how it spreads, mortality rate, and conditions such as asthma, diabetes, and cancer as well as heart, liver, kidney, and lung diseases that are believed to be related to COVID-19 complications and deaths. "
   ]
  },
  {
   "cell_type": "code",
   "execution_count": null,
   "metadata": {},
   "outputs": [],
   "source": []
  }
 ],
 "metadata": {
  "kernelspec": {
   "display_name": "Python 2",
   "language": "python",
   "name": "python2"
  },
  "language_info": {
   "codemirror_mode": {
    "name": "ipython",
    "version": 2
   },
   "file_extension": ".py",
   "mimetype": "text/x-python",
   "name": "python",
   "nbconvert_exporter": "python",
   "pygments_lexer": "ipython2",
   "version": "2.7.16"
  }
 },
 "nbformat": 4,
 "nbformat_minor": 4
}
