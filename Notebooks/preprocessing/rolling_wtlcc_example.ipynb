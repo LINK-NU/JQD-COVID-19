{
 "cells": [
  {
   "cell_type": "code",
   "execution_count": 1,
   "metadata": {},
   "outputs": [],
   "source": [
    "import string\n",
    "import nltk\n",
    "from liwc import Liwc\n",
    "import pandas as pd\n",
    "import numpy as np\n",
    "import seaborn as sns\n",
    "from datetime import datetime\n",
    "from nltk.stem.porter import *\n",
    "from collections import Counter\n",
    "from tqdm import tqdm_notebook\n",
    "from nltk.corpus import stopwords \n",
    "from nltk.stem import WordNetLemmatizer \n",
    "lemmatizer = WordNetLemmatizer() \n",
    "from nltk.tokenize import word_tokenize\n",
    "import multiprocessing\n",
    "import matplotlib.pyplot as plt\n",
    "import warnings\n",
    "warnings.filterwarnings('ignore')\n",
    "pd.set_option('display.max_colwidth', -1)\n",
    "pd.set_option('display.float_format', lambda x: '%.3f' % x)\n",
    "pd.set_option('display.max_rows', 500)\n",
    "pd.set_option('display.max_columns', 500)\n",
    "pd.set_option('display.width', 1000)\n",
    "plt.style.use('classic')\n",
    "orange, purple, elm ='#FFCC00', '#666599', '#217C7E'\n",
    "blue, red, grey, green ='#336699', '#9A3334', '#AAAAAA', '#335333'\n",
    "%matplotlib inline\n",
    "mydpi=600\n",
    "s=12\n",
    "\n",
    "__author__ = 'HK Dambanemuya'\n",
    "__version__ = 'Python3'"
   ]
  },
  {
   "cell_type": "code",
   "execution_count": 2,
   "metadata": {},
   "outputs": [
    {
     "name": "stdout",
     "output_type": "stream",
     "text": [
      "Reading News...\n"
     ]
    },
    {
     "data": {
      "application/vnd.jupyter.widget-view+json": {
       "model_id": "4344c0d4f88042a285e646a73121180e",
       "version_major": 2,
       "version_minor": 0
      },
      "text/plain": [
       "HBox(children=(FloatProgress(value=0.0, max=2323528.0), HTML(value='')))"
      ]
     },
     "metadata": {},
     "output_type": "display_data"
    },
    {
     "name": "stdout",
     "output_type": "stream",
     "text": [
      "\n",
      "Reading Blogs...\n"
     ]
    },
    {
     "data": {
      "application/vnd.jupyter.widget-view+json": {
       "model_id": "f9108124bd194902be1d2b1a57ea4200",
       "version_major": 2,
       "version_minor": 0
      },
      "text/plain": [
       "HBox(children=(FloatProgress(value=0.0, max=985949.0), HTML(value='')))"
      ]
     },
     "metadata": {},
     "output_type": "display_data"
    },
    {
     "name": "stdout",
     "output_type": "stream",
     "text": [
      "\n",
      "Reading Discussions...\n"
     ]
    },
    {
     "data": {
      "application/vnd.jupyter.widget-view+json": {
       "model_id": "5ada70c6920f4990a0c69dbd5292eef4",
       "version_major": 2,
       "version_minor": 0
      },
      "text/plain": [
       "HBox(children=(FloatProgress(value=0.0, max=412165.0), HTML(value='')))"
      ]
     },
     "metadata": {},
     "output_type": "display_data"
    },
    {
     "name": "stdout",
     "output_type": "stream",
     "text": [
      "\n"
     ]
    }
   ],
   "source": [
    "print (\"Reading News...\")\n",
    "news = pd.read_csv(\"../Data/Fusion/news.csv\")\n",
    "news = news[news['length']>100]\n",
    "news['date'] = [datetime.strftime(pd.to_datetime(date), '%Y-%m-%d') for date in tqdm_notebook(news['date'])]\n",
    "\n",
    "print (\"Reading Blogs...\")\n",
    "blogs = pd.read_csv(\"../Data/Fusion/blogs.csv\")\n",
    "blogs = blogs[blogs['length']>100]\n",
    "blogs['date'] = [datetime.strftime(pd.to_datetime(date), '%Y-%m-%d') for date in tqdm_notebook(blogs['date'])]\n",
    "\n",
    "print (\"Reading Discussions...\")\n",
    "discussions = pd.read_csv(\"../Data/Fusion/discussions.csv\")\n",
    "discussions = discussions[discussions['length']>100]\n",
    "discussions['date'] = [datetime.strftime(pd.to_datetime(date), '%Y-%m-%d') for date in tqdm_notebook(discussions['date'])]"
   ]
  },
  {
   "cell_type": "code",
   "execution_count": 3,
   "metadata": {},
   "outputs": [],
   "source": [
    "# Use the same sorted date list across all three datasets\n",
    "dates = sorted(list(set(news['date']).union(set(blogs['date'])).union(set(discussions['date']))))[1:-1]\n",
    "dates_ = [date[5:].replace('-','/') for date in dates]"
   ]
  },
  {
   "cell_type": "code",
   "execution_count": 4,
   "metadata": {},
   "outputs": [],
   "source": [
    "ppe_n = news[(news['topic'].str.contains('face mask')) | (news['topic'].str.contains('hand sanitizer'))]\n",
    "ppe_b = blogs[(blogs['topic'].str.contains('face mask')) | (blogs['topic'].str.contains('hand sanitizer'))]\n",
    "ppe_d = discussions[(discussions['topic'].str.contains('face mask')) | (discussions['topic'].str.contains('hand sanitizer'))]\n",
    "ppe_news_frequency = Counter([datetime.strftime(pd.to_datetime(date), '%Y-%m-%d') for date in ppe_n['date']])\n",
    "ppe_blogs_frequency = Counter([datetime.strftime(pd.to_datetime(date), '%Y-%m-%d') for date in ppe_b['date']])\n",
    "ppe_discussions_frequency = Counter([datetime.strftime(pd.to_datetime(date), '%Y-%m-%d') for date in ppe_d['date']])"
   ]
  },
  {
   "cell_type": "code",
   "execution_count": 5,
   "metadata": {},
   "outputs": [],
   "source": [
    "def get_topic_frequency_by_media(topic_mapping):\n",
    "    dates = sorted(topic_mapping.keys())\n",
    "    news_v, blogs_v, discussions_v = [], [], []\n",
    "    for date in dates:\n",
    "        news_v.append(topic_mapping.get(date)[0])\n",
    "        blogs_v.append(topic_mapping.get(date)[1])\n",
    "        discussions_v.append(topic_mapping.get(date)[2])  \n",
    "    return news_v, blogs_v, discussions_v"
   ]
  },
  {
   "cell_type": "code",
   "execution_count": 6,
   "metadata": {},
   "outputs": [
    {
     "data": {
      "application/vnd.jupyter.widget-view+json": {
       "model_id": "fef4daf409a1475297cb61f6227151fd",
       "version_major": 2,
       "version_minor": 0
      },
      "text/plain": [
       "HBox(children=(FloatProgress(value=0.0, max=120.0), HTML(value='')))"
      ]
     },
     "metadata": {},
     "output_type": "display_data"
    },
    {
     "name": "stdout",
     "output_type": "stream",
     "text": [
      "\n"
     ]
    }
   ],
   "source": [
    "ppe_topic_map = {}\n",
    "for date in tqdm_notebook(sorted(dates)):\n",
    "    ppe_topic_map[date] = [ppe_news_frequency.get(date, 0), \n",
    "                       ppe_blogs_frequency.get(date, 0), \n",
    "                       ppe_discussions_frequency.get(date, 0)]\n",
    "\n",
    "ppe_news_v, ppe_blogs_v, ppe_discussions_v = get_topic_frequency_by_media(ppe_topic_map)\n",
    "assert len(ppe_news_v) == len(ppe_blogs_v) == len(ppe_discussions_v)\n",
    "n= len(ppe_news_v)"
   ]
  },
  {
   "cell_type": "code",
   "execution_count": 7,
   "metadata": {},
   "outputs": [],
   "source": [
    "ppe_news_r = pd.Series(ppe_news_v).rolling(7, win_type='triang').sum()\n",
    "ppe_blogs_r = pd.Series(ppe_blogs_v).rolling(7, win_type='triang').sum()\n",
    "ppe_discussions_r = pd.Series(ppe_discussions_v).rolling(7, win_type='triang').sum()"
   ]
  },
  {
   "cell_type": "code",
   "execution_count": 8,
   "metadata": {},
   "outputs": [],
   "source": [
    "def crosscorr(datax, datay, lag=0, wrap=False):\n",
    "    \"\"\" Lag-N cross correlation. \n",
    "    Shifted data filled with NaNs \n",
    "    \n",
    "    Parameters\n",
    "    ----------\n",
    "    lag : int, default 0\n",
    "    datax, datay : pandas.Series objects of equal length\n",
    "    Returns\n",
    "    ----------\n",
    "    crosscorr : float\n",
    "    \"\"\"\n",
    "    if wrap:\n",
    "        shiftedy = datay.shift(lag)\n",
    "        shiftedy.iloc[:lag] = datay.iloc[-lag:].values\n",
    "        return datax.corr(shiftedy)\n",
    "    else: \n",
    "        return datax.corr(datay.shift(lag))"
   ]
  },
  {
   "cell_type": "code",
   "execution_count": 9,
   "metadata": {},
   "outputs": [
    {
     "data": {
      "image/png": "[encoded data removed]",
      "text/plain": [
       "<Figure size 720x360 with 2 Axes>"
      ]
     },
     "metadata": {
      "needs_background": "light"
     },
     "output_type": "display_data"
    }
   ],
   "source": [
    "# Windowed time lagged cross correlation\n",
    "# seconds = 5\n",
    "# fps = 30\n",
    "df = pd.DataFrame()\n",
    "df['news'] = ppe_news_r\n",
    "df['blogs'] = ppe_blogs_r\n",
    "\n",
    "no_splits = 8\n",
    "samples_per_split = df.shape[0]/no_splits\n",
    "rss=[]\n",
    "\n",
    "for t in range(0, no_splits):\n",
    "    d1 = df['news'].loc[(t)*samples_per_split:(t+1)*samples_per_split]\n",
    "    d2 = df['blogs'].loc[(t)*samples_per_split:(t+1)*samples_per_split]\n",
    "    rs = [crosscorr(d1,d2, lag) for lag in range(-7,8)]\n",
    "    rss.append(rs)\n",
    "rss = pd.DataFrame(rss)\n",
    "f,ax = plt.subplots(figsize=(10,5))\n",
    "sns.heatmap(rss,cmap='RdBu_r',ax=ax)\n",
    "ax.set(title=f'PPE News vs Blogs', xlabel='Offset',ylabel='Window epochs')\n",
    "ax.set_xticklabels(range(-7,8));"
   ]
  },
  {
   "cell_type": "code",
   "execution_count": 12,
   "metadata": {},
   "outputs": [
    {
     "data": {
      "image/png": "[encoded data removed]",
      "text/plain": [
       "<Figure size 720x360 with 2 Axes>"
      ]
     },
     "metadata": {
      "needs_background": "light"
     },
     "output_type": "display_data"
    }
   ],
   "source": [
    "# Rolling window time lagged cross correlation\n",
    "window_size = 14 #samples\n",
    "t_start = 0 # start at 0\n",
    "t_end = t_start + window_size\n",
    "step_size = 1\n",
    "rss=[]\n",
    "while t_end < n+window_size:\n",
    "    d1 = df['news'].iloc[t_start:t_end]\n",
    "    d2 = df['blogs'].iloc[t_start:t_end]\n",
    "    rs = [crosscorr(d1,d2, lag, wrap=False) for lag in range(-7,8)]\n",
    "    rss.append(rs)\n",
    "    t_start = t_start + step_size\n",
    "    t_end = t_end + step_size\n",
    "rss = pd.DataFrame(rss)\n",
    "\n",
    "f,ax = plt.subplots(figsize=(10,5))\n",
    "sns.heatmap(rss,cmap='RdBu_r',ax=ax)\n",
    "ax.set(title=f'PPE News vs Blogs', xlabel='Offset',ylabel='Epochs')\n",
    "ax.set_xticklabels(range(-7,8));"
   ]
  },
  {
   "cell_type": "code",
   "execution_count": null,
   "metadata": {},
   "outputs": [],
   "source": []
  }
 ],
 "metadata": {
  "kernelspec": {
   "display_name": "Python 3",
   "language": "python",
   "name": "python3"
  },
  "language_info": {
   "codemirror_mode": {
    "name": "ipython",
    "version": 3
   },
   "file_extension": ".py",
   "mimetype": "text/x-python",
   "name": "python",
   "nbconvert_exporter": "python",
   "pygments_lexer": "ipython3",
   "version": "3.7.6"
  }
 },
 "nbformat": 4,
 "nbformat_minor": 4
}
