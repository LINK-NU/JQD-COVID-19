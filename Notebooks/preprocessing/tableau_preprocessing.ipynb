{
 "cells": [
  {
   "cell_type": "code",
   "execution_count": 1,
   "metadata": {},
   "outputs": [],
   "source": [
    "import pandas as pd\n",
    "import numpy as np\n",
    "from tqdm import tqdm_notebook\n",
    "from datetime import datetime\n",
    "from collections import Counter\n",
    "\n",
    "groupings = {\n",
    "            'Medical Supplies':['medical supplies','test kits'],\n",
    "            'PPE':['face mask','hand sanitizer'],\n",
    "            'Recommendations':['social distancing', 'shelter in place'],\n",
    "            'Restrictions':['school closure', 'travel ban'],\n",
    "            'Seasonal Flu':['flu', 'common cold']\n",
    "             }\n",
    "\n",
    "__author__ = 'Haomin Lin'\n",
    "__version__ = 'Python3'"
   ]
  },
  {
   "cell_type": "code",
   "execution_count": 2,
   "metadata": {},
   "outputs": [
    {
     "name": "stderr",
     "output_type": "stream",
     "text": [
      "/opt/anaconda3/lib/python3.7/site-packages/numpy/lib/arraysetops.py:568: FutureWarning: elementwise comparison failed; returning scalar instead, but in the future will perform elementwise comparison\n",
      "  mask |= (ar1 == a)\n"
     ]
    },
    {
     "data": {
      "application/vnd.jupyter.widget-view+json": {
       "model_id": "9a90229a37fb4d7db4b9b8c1dbe57851",
       "version_major": 2,
       "version_minor": 0
      },
      "text/plain": [
       "HBox(children=(IntProgress(value=0, max=2323528), HTML(value='')))"
      ]
     },
     "metadata": {},
     "output_type": "display_data"
    },
    {
     "name": "stdout",
     "output_type": "stream",
     "text": [
      "\n"
     ]
    }
   ],
   "source": [
    "path_info_news = '../Downloads/info_news.csv'\n",
    "info_news = pd.read_csv(path_info_news,index_col=0)\n",
    "# info_news = info_news[info_news['length']>100]\n",
    "info_news['date'] = [datetime.strftime(pd.to_datetime(date), '%Y-%m-%d') for date in tqdm_notebook(info_news['date'])]"
   ]
  },
  {
   "cell_type": "code",
   "execution_count": 3,
   "metadata": {},
   "outputs": [
    {
     "data": {
      "application/vnd.jupyter.widget-view+json": {
       "model_id": "8813877e521a40a886b9cda6cab404c9",
       "version_major": 2,
       "version_minor": 0
      },
      "text/plain": [
       "HBox(children=(IntProgress(value=0, max=985949), HTML(value='')))"
      ]
     },
     "metadata": {},
     "output_type": "display_data"
    },
    {
     "name": "stdout",
     "output_type": "stream",
     "text": [
      "\n"
     ]
    }
   ],
   "source": [
    "path_info_blog = '../Downloads/info_blogs.csv'\n",
    "info_blog = pd.read_csv(path_info_blog,index_col=0)\n",
    "# # info_blog = info_blog[info_blog['length']>100]\n",
    "info_blog['date'] = [datetime.strftime(pd.to_datetime(date), '%Y-%m-%d') for date in tqdm_notebook(info_blog['date'])]"
   ]
  },
  {
   "cell_type": "code",
   "execution_count": 4,
   "metadata": {},
   "outputs": [
    {
     "data": {
      "application/vnd.jupyter.widget-view+json": {
       "model_id": "38c8a867be6b437a905d49d6481e4764",
       "version_major": 2,
       "version_minor": 0
      },
      "text/plain": [
       "HBox(children=(IntProgress(value=0, max=412165), HTML(value='')))"
      ]
     },
     "metadata": {},
     "output_type": "display_data"
    },
    {
     "name": "stdout",
     "output_type": "stream",
     "text": [
      "\n"
     ]
    }
   ],
   "source": [
    "path_info_disc = '../Downloads/info_discussions.csv'\n",
    "info_disc = pd.read_csv(path_info_disc,index_col=0)\n",
    "# # info_disc = info_disc[info_disc['length']>100]\n",
    "info_disc['date'] = [datetime.strftime(pd.to_datetime(date), '%Y-%m-%d') for date in tqdm_notebook(info_disc['date'])]"
   ]
  },
  {
   "cell_type": "code",
   "execution_count": 5,
   "metadata": {},
   "outputs": [
    {
     "data": {
      "application/vnd.jupyter.widget-view+json": {
       "model_id": "1c2e981118b3486988c56d872cdbfae5",
       "version_major": 2,
       "version_minor": 0
      },
      "text/plain": [
       "HBox(children=(IntProgress(value=0, max=202), HTML(value='')))"
      ]
     },
     "metadata": {},
     "output_type": "display_data"
    },
    {
     "name": "stdout",
     "output_type": "stream",
     "text": [
      "\n",
      "Common Countries: 79\n"
     ]
    }
   ],
   "source": [
    "# Select countries common in all 3 data sets\n",
    "country_map = Counter(set(info_news['country']))+Counter(set(info_blog['country']))+ Counter(set(info_disc['country']))\n",
    "common_locations = []\n",
    "for k,v in tqdm_notebook(country_map.items()):\n",
    "    if (v == 3) and (k==k):\n",
    "        common_locations.append(k)\n",
    "print(\"Common Countries:\", len(common_locations))"
   ]
  },
  {
   "cell_type": "code",
   "execution_count": 6,
   "metadata": {},
   "outputs": [
    {
     "name": "stdout",
     "output_type": "stream",
     "text": [
      "News: 2277563\n",
      "Blogs: 946755\n",
      "Discussions: 409091\n"
     ]
    }
   ],
   "source": [
    "# Filter data by common countries\n",
    "info_news = info_news[info_news['country'].isin(common_locations)]\n",
    "info_blog = info_blog[info_blog['country'].isin(common_locations)]\n",
    "info_disc = info_disc[info_disc['country'].isin(common_locations)]\n",
    "print (\"News:\", len(info_news))\n",
    "print (\"Blogs:\", len(info_blog))\n",
    "print (\"Discussions:\", len(info_disc))"
   ]
  },
  {
   "cell_type": "code",
   "execution_count": 7,
   "metadata": {
    "scrolled": true
   },
   "outputs": [
    {
     "data": {
      "application/vnd.jupyter.widget-view+json": {
       "model_id": "5b86f63af0a1426a89e0bbeb7567701e",
       "version_major": 2,
       "version_minor": 0
      },
      "text/plain": [
       "HBox(children=(IntProgress(value=0, max=5), HTML(value='')))"
      ]
     },
     "metadata": {},
     "output_type": "display_data"
    },
    {
     "name": "stdout",
     "output_type": "stream",
     "text": [
      "\n"
     ]
    },
    {
     "data": {
      "application/vnd.jupyter.widget-view+json": {
       "model_id": "85b6901ddfe645c8ae5302ed2cff0d0f",
       "version_major": 2,
       "version_minor": 0
      },
      "text/plain": [
       "HBox(children=(IntProgress(value=0, max=5), HTML(value='')))"
      ]
     },
     "metadata": {},
     "output_type": "display_data"
    },
    {
     "name": "stdout",
     "output_type": "stream",
     "text": [
      "\n"
     ]
    },
    {
     "data": {
      "application/vnd.jupyter.widget-view+json": {
       "model_id": "b77a527df8f6400d88aafbf247c99a13",
       "version_major": 2,
       "version_minor": 0
      },
      "text/plain": [
       "HBox(children=(IntProgress(value=0, max=5), HTML(value='')))"
      ]
     },
     "metadata": {},
     "output_type": "display_data"
    },
    {
     "name": "stdout",
     "output_type": "stream",
     "text": [
      "\n"
     ]
    },
    {
     "data": {
      "text/html": [
       "<div>\n",
       "<style scoped>\n",
       "    .dataframe tbody tr th:only-of-type {\n",
       "        vertical-align: middle;\n",
       "    }\n",
       "\n",
       "    .dataframe tbody tr th {\n",
       "        vertical-align: top;\n",
       "    }\n",
       "\n",
       "    .dataframe thead th {\n",
       "        text-align: right;\n",
       "    }\n",
       "</style>\n",
       "<table border=\"1\" class=\"dataframe\">\n",
       "  <thead>\n",
       "    <tr style=\"text-align: right;\">\n",
       "      <th></th>\n",
       "      <th>date</th>\n",
       "      <th>theme</th>\n",
       "      <th>topic_share</th>\n",
       "      <th>platform</th>\n",
       "      <th>date_2</th>\n",
       "      <th>topic_share_2</th>\n",
       "    </tr>\n",
       "  </thead>\n",
       "  <tbody>\n",
       "    <tr>\n",
       "      <td>0</td>\n",
       "      <td>2019-12-03</td>\n",
       "      <td>Medical Supplies</td>\n",
       "      <td>0.333333</td>\n",
       "      <td>News</td>\n",
       "      <td>2019-12-03</td>\n",
       "      <td>0.333333</td>\n",
       "    </tr>\n",
       "    <tr>\n",
       "      <td>1</td>\n",
       "      <td>2019-12-17</td>\n",
       "      <td>Medical Supplies</td>\n",
       "      <td>0.333333</td>\n",
       "      <td>News</td>\n",
       "      <td>2019-12-17</td>\n",
       "      <td>0.333333</td>\n",
       "    </tr>\n",
       "    <tr>\n",
       "      <td>2</td>\n",
       "      <td>2020-01-05</td>\n",
       "      <td>Medical Supplies</td>\n",
       "      <td>0.015385</td>\n",
       "      <td>News</td>\n",
       "      <td>2020-01-05</td>\n",
       "      <td>0.015385</td>\n",
       "    </tr>\n",
       "    <tr>\n",
       "      <td>3</td>\n",
       "      <td>2020-01-08</td>\n",
       "      <td>Medical Supplies</td>\n",
       "      <td>0.017241</td>\n",
       "      <td>News</td>\n",
       "      <td>2020-01-08</td>\n",
       "      <td>0.017241</td>\n",
       "    </tr>\n",
       "    <tr>\n",
       "      <td>4</td>\n",
       "      <td>2020-01-10</td>\n",
       "      <td>Medical Supplies</td>\n",
       "      <td>0.005128</td>\n",
       "      <td>News</td>\n",
       "      <td>2020-01-10</td>\n",
       "      <td>0.005128</td>\n",
       "    </tr>\n",
       "    <tr>\n",
       "      <td>5</td>\n",
       "      <td>2020-01-11</td>\n",
       "      <td>Medical Supplies</td>\n",
       "      <td>0.004098</td>\n",
       "      <td>News</td>\n",
       "      <td>2020-01-11</td>\n",
       "      <td>0.004098</td>\n",
       "    </tr>\n",
       "    <tr>\n",
       "      <td>6</td>\n",
       "      <td>2020-01-14</td>\n",
       "      <td>Medical Supplies</td>\n",
       "      <td>0.011834</td>\n",
       "      <td>News</td>\n",
       "      <td>2020-01-14</td>\n",
       "      <td>0.011834</td>\n",
       "    </tr>\n",
       "    <tr>\n",
       "      <td>7</td>\n",
       "      <td>2020-01-15</td>\n",
       "      <td>Medical Supplies</td>\n",
       "      <td>0.003984</td>\n",
       "      <td>News</td>\n",
       "      <td>2020-01-15</td>\n",
       "      <td>0.003984</td>\n",
       "    </tr>\n",
       "    <tr>\n",
       "      <td>8</td>\n",
       "      <td>2020-01-16</td>\n",
       "      <td>Medical Supplies</td>\n",
       "      <td>0.003145</td>\n",
       "      <td>News</td>\n",
       "      <td>2020-01-16</td>\n",
       "      <td>0.003145</td>\n",
       "    </tr>\n",
       "    <tr>\n",
       "      <td>9</td>\n",
       "      <td>2020-01-18</td>\n",
       "      <td>Medical Supplies</td>\n",
       "      <td>0.005338</td>\n",
       "      <td>News</td>\n",
       "      <td>2020-01-18</td>\n",
       "      <td>0.005338</td>\n",
       "    </tr>\n",
       "  </tbody>\n",
       "</table>\n",
       "</div>"
      ],
      "text/plain": [
       "         date             theme  topic_share platform      date_2  \\\n",
       "0  2019-12-03  Medical Supplies     0.333333     News  2019-12-03   \n",
       "1  2019-12-17  Medical Supplies     0.333333     News  2019-12-17   \n",
       "2  2020-01-05  Medical Supplies     0.015385     News  2020-01-05   \n",
       "3  2020-01-08  Medical Supplies     0.017241     News  2020-01-08   \n",
       "4  2020-01-10  Medical Supplies     0.005128     News  2020-01-10   \n",
       "5  2020-01-11  Medical Supplies     0.004098     News  2020-01-11   \n",
       "6  2020-01-14  Medical Supplies     0.011834     News  2020-01-14   \n",
       "7  2020-01-15  Medical Supplies     0.003984     News  2020-01-15   \n",
       "8  2020-01-16  Medical Supplies     0.003145     News  2020-01-16   \n",
       "9  2020-01-18  Medical Supplies     0.005338     News  2020-01-18   \n",
       "\n",
       "   topic_share_2  \n",
       "0       0.333333  \n",
       "1       0.333333  \n",
       "2       0.015385  \n",
       "3       0.017241  \n",
       "4       0.005128  \n",
       "5       0.004098  \n",
       "6       0.011834  \n",
       "7       0.003984  \n",
       "8       0.003145  \n",
       "9       0.005338  "
      ]
     },
     "execution_count": 7,
     "metadata": {},
     "output_type": "execute_result"
    }
   ],
   "source": [
    "all_results = []\n",
    "for platform,p in zip([info_news,info_blog,info_disc],['News','Blogs','Discussions']):\n",
    "    \n",
    "    platform_themes=[]\n",
    "    for theme,topics in tqdm_notebook(groupings.items()):\n",
    "        theme_df = platform[(platform['topic'].str.contains(topics[0]))|(platform['topic'].str.contains(topics[1]))]\n",
    "        es = {key: np.true_divide(Counter(theme_df['date'])[key], Counter(platform['date']).get(key, 0)) for key in Counter(theme_df['date']).keys()}\n",
    "        theme_df = theme_df[['date','theme']].groupby('date').agg('max').reset_index()\n",
    "        theme_df['theme']=[theme]*len(theme_df)\n",
    "        theme_df['topic_share'] = [es.get(date) for date in theme_df['date']] \n",
    "        theme_df['platform'] = [p]*len(theme_df)\n",
    "        theme_df['date_2'] = theme_df['date']\n",
    "        theme_df['topic_share_2'] = theme_df['topic_share']\n",
    "        platform_themes.append(theme_df)\n",
    "        \n",
    "    all_results.append(pd.concat(platform_themes))\n",
    "tableau_df = pd.concat(all_results)\n",
    "tableau_df.to_csv('tableau_df.csv',index=False)\n",
    "tableau_df.head(10)"
   ]
  }
 ],
 "metadata": {
  "kernelspec": {
   "display_name": "Python 3",
   "language": "python",
   "name": "python3"
  },
  "language_info": {
   "codemirror_mode": {
    "name": "ipython",
    "version": 3
   },
   "file_extension": ".py",
   "mimetype": "text/x-python",
   "name": "python",
   "nbconvert_exporter": "python",
   "pygments_lexer": "ipython3",
   "version": "3.7.6"
  }
 },
 "nbformat": 4,
 "nbformat_minor": 2
}
